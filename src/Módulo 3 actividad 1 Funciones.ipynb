{
 "cells": [
  {
   "cell_type": "code",
   "execution_count": 2,
   "id": "3b64e9bd",
   "metadata": {},
   "outputs": [
    {
     "data": {
      "application/vnd.jupyter.widget-view+json": {
       "model_id": "bb3b05d0d8cd48368a8be08bfea5ab54",
       "version_major": 2,
       "version_minor": 0
      },
      "text/plain": [
       "HBox(children=(VBox(children=(IntSlider(value=0, description='x', max=10),)), Output()))"
      ]
     },
     "metadata": {},
     "output_type": "display_data"
    }
   ],
   "source": [
    "import math\n",
    "\n",
    "def hazFactorial(num):\n",
    "   \n",
    "    '''\n",
    "   \n",
    "    hazFactorial(x,/)\n",
    "        Regresa el factorial de un número entero\n",
    "   \n",
    "   \n",
    "    '''\n",
    "   \n",
    "    fact = 1\n",
    "\n",
    "    for i in range(1,num+1):\n",
    "        fact = fact * i\n",
    "\n",
    "    return fact\n",
    "   \n",
    "\n",
    "\n",
    "def hazGamma(num):\n",
    "    '''\n",
    "   \n",
    "    hazGamma(x,/)\n",
    "        Regresa el valor de la función Gamma de un valor\n",
    "   \n",
    "   \n",
    "    '''\n",
    "   \n",
    "    return math.gamma(num)\n",
    "   \n",
    "\n",
    "\n",
    "def hazDistancia(x2,y2,x1,y1):\n",
    "    '''\n",
    "   \n",
    "    hazDistancia(x2,y2,x1,y1,/)\n",
    "        Regresa el valor de la distancia entre dos puntos dadas sus coordenadas\n",
    "   \n",
    "   \n",
    "    '''\n",
    "\n",
    "    return math.sqrt((x2 - x1)**2 + (y2 - y1)**2)\n",
    "\n",
    "import ipywidgets as widgets\n",
    "from ipywidgets import interact, interactive, fixed, interact_manual\n",
    "import numpy as np\n",
    "import matplotlib.pyplot as plt\n",
    "import math\n",
    "\n",
    "x = widgets.IntSlider(description = 'x',min= 0, max = 10)\n",
    "\n",
    "\n",
    "def f(x):\n",
    "    \n",
    "    listx = []\n",
    "    listy = []\n",
    "    y = math.factorial(x)\n",
    "    print('{}!={}'.format(x,y))\n",
    "    \n",
    "    for i in range (0,x+1):\n",
    "        listx.append(i)\n",
    "    \n",
    "    for j in range (0,x + 1):\n",
    "        listy.append(math.factorial(j))\n",
    "        \n",
    "    \n",
    "    #print(listx)\n",
    "    #print(listy)\n",
    "    plt.ylim(-5,1000000)\n",
    "    plt.xlim(-5,10)\n",
    "    plt.plot(listx,listy, color = 'green')\n",
    "    plt.grid()\n",
    "    plt.show()\n",
    "    \n",
    "   \n",
    "  \n",
    "\n",
    "out = widgets.interactive_output(f, {'x': x})\n",
    "\n",
    "widgets.HBox([widgets.VBox([x]), out])"
   ]
  },
  {
   "cell_type": "code",
   "execution_count": null,
   "id": "bfdbc680",
   "metadata": {},
   "outputs": [],
   "source": []
  }
 ],
 "metadata": {
  "kernelspec": {
   "display_name": "Python 3 (ipykernel)",
   "language": "python",
   "name": "python3"
  },
  "language_info": {
   "codemirror_mode": {
    "name": "ipython",
    "version": 3
   },
   "file_extension": ".py",
   "mimetype": "text/x-python",
   "name": "python",
   "nbconvert_exporter": "python",
   "pygments_lexer": "ipython3",
   "version": "3.10.9"
  }
 },
 "nbformat": 4,
 "nbformat_minor": 5
}
