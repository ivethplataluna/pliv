{
 "cells": [
  {
   "cell_type": "code",
   "execution_count": 1,
   "id": "7d1a8110",
   "metadata": {},
   "outputs": [],
   "source": [
    "##Autores: Ricardo Yadel Murillo Pérez e Iveth Vanessa Plata Luna\n",
    "using JuMP\n",
    "using GLPK"
   ]
  },
  {
   "cell_type": "code",
   "execution_count": null,
   "id": "b01b40c3",
   "metadata": {},
   "outputs": [],
   "source": [
    "## Un productor de vicicletas produce bicicletas para tour, carrera y montaña. Estas bicicletas están hechas de aluminio y acero. La compañía tiene 91800 unidadeas de acero y 42000 unidades de alumnio. Los modelos de carrera, de tour y montaña requieren 17, 27 y 15 unidades de acero 12, 21 y 15 unidades de aluminio. Una compañía genera 8 dólares por bicicletas de carrera, 12 dólares por bicicleta de tour y 22 dólares por bicicleta de montaña. Para maximizar la ganancia, ¿cuántas bicicletas de cada tipo deben ser producidas?¿CUál es la ganancia máxima que se puede generar?"
   ]
  },
  {
   "cell_type": "code",
   "execution_count": 18,
   "id": "0e6b1701",
   "metadata": {},
   "outputs": [
    {
     "data": {
      "text/plain": [
       "A JuMP Model\n",
       "Feasibility problem with:\n",
       "Variables: 0\n",
       "Model mode: AUTOMATIC\n",
       "CachingOptimizer state: EMPTY_OPTIMIZER\n",
       "Solver name: GLPK"
      ]
     },
     "execution_count": 18,
     "metadata": {},
     "output_type": "execute_result"
    }
   ],
   "source": [
    "##Define el modelo de optimización\n",
    "model = Model(GLPK.Optimizer)"
   ]
  },
  {
   "cell_type": "markdown",
   "id": "e30a07af",
   "metadata": {},
   "source": [
    "## Construcción de variables"
   ]
  },
  {
   "cell_type": "code",
   "execution_count": 47,
   "id": "d7af26f4",
   "metadata": {},
   "outputs": [
    {
     "data": {
      "text/latex": [
       "$$ r $$"
      ],
      "text/plain": [
       "r"
      ]
     },
     "execution_count": 47,
     "metadata": {},
     "output_type": "execute_result"
    }
   ],
   "source": [
    "@variable(model, r>=0)"
   ]
  },
  {
   "cell_type": "code",
   "execution_count": 48,
   "id": "3720ec54",
   "metadata": {},
   "outputs": [
    {
     "data": {
      "text/latex": [
       "$$ t $$"
      ],
      "text/plain": [
       "t"
      ]
     },
     "execution_count": 48,
     "metadata": {},
     "output_type": "execute_result"
    }
   ],
   "source": [
    "@variable(model, t>=0)"
   ]
  },
  {
   "cell_type": "code",
   "execution_count": 49,
   "id": "010c92ee",
   "metadata": {},
   "outputs": [
    {
     "data": {
      "text/latex": [
       "$$ m $$"
      ],
      "text/plain": [
       "m"
      ]
     },
     "execution_count": 49,
     "metadata": {},
     "output_type": "execute_result"
    }
   ],
   "source": [
    "@variable(model, m>=0)"
   ]
  },
  {
   "cell_type": "code",
   "execution_count": 50,
   "id": "2b47816b",
   "metadata": {},
   "outputs": [
    {
     "data": {
      "text/latex": [
       "$$ 17 r + 27 t + 34 m \\leq 91800 $$"
      ],
      "text/plain": [
       "17 r + 27 t + 34 m ≤ 91800"
      ]
     },
     "execution_count": 50,
     "metadata": {},
     "output_type": "execute_result"
    }
   ],
   "source": [
    "@constraint(model, 17r + 27t + 34m <= 91800)"
   ]
  },
  {
   "cell_type": "code",
   "execution_count": 51,
   "id": "f2a088fd",
   "metadata": {},
   "outputs": [
    {
     "data": {
      "text/latex": [
       "$$ 12 r + 21 t + 15 m \\leq 42000 $$"
      ],
      "text/plain": [
       "12 r + 21 t + 15 m ≤ 42000"
      ]
     },
     "execution_count": 51,
     "metadata": {},
     "output_type": "execute_result"
    }
   ],
   "source": [
    "@constraint(model, 12r + 21t + 15m <=42000)"
   ]
  },
  {
   "cell_type": "markdown",
   "id": "4cbf0243",
   "metadata": {},
   "source": [
    "## Función objetivo"
   ]
  },
  {
   "cell_type": "code",
   "execution_count": 57,
   "id": "b2ff4bc2",
   "metadata": {},
   "outputs": [
    {
     "data": {
      "text/latex": [
       "$$ 8 r + 12 t + 22 m $$"
      ],
      "text/plain": [
       "8 r + 12 t + 22 m"
      ]
     },
     "execution_count": 57,
     "metadata": {},
     "output_type": "execute_result"
    }
   ],
   "source": [
    "@objective(model, Max, 8r + 12t + 22m)"
   ]
  },
  {
   "cell_type": "markdown",
   "id": "89085693",
   "metadata": {},
   "source": [
    "## SOlución del modelo"
   ]
  },
  {
   "cell_type": "code",
   "execution_count": 58,
   "id": "345724d7",
   "metadata": {},
   "outputs": [],
   "source": [
    "optimize!(model)"
   ]
  },
  {
   "cell_type": "markdown",
   "id": "6bd1223c",
   "metadata": {},
   "source": [
    "## Reportar la solución"
   ]
  },
  {
   "cell_type": "code",
   "execution_count": 64,
   "id": "53baecad",
   "metadata": {},
   "outputs": [
    {
     "name": "stdout",
     "output_type": "stream",
     "text": [
      "value(r) = 0.0\n"
     ]
    },
    {
     "data": {
      "text/plain": [
       "0.0"
      ]
     },
     "execution_count": 64,
     "metadata": {},
     "output_type": "execute_result"
    }
   ],
   "source": [
    "@show value(r)"
   ]
  },
  {
   "cell_type": "code",
   "execution_count": 65,
   "id": "ec5a6b79",
   "metadata": {},
   "outputs": [
    {
     "name": "stdout",
     "output_type": "stream",
     "text": [
      "value(t) = 0.0\n"
     ]
    },
    {
     "data": {
      "text/plain": [
       "0.0"
      ]
     },
     "execution_count": 65,
     "metadata": {},
     "output_type": "execute_result"
    }
   ],
   "source": [
    "@show value(t)"
   ]
  },
  {
   "cell_type": "code",
   "execution_count": 66,
   "id": "9f9deaa8",
   "metadata": {},
   "outputs": [
    {
     "name": "stdout",
     "output_type": "stream",
     "text": [
      "value(m) = 2700.0\n"
     ]
    },
    {
     "data": {
      "text/plain": [
       "2700.0"
      ]
     },
     "execution_count": 66,
     "metadata": {},
     "output_type": "execute_result"
    }
   ],
   "source": [
    "@show value(m)"
   ]
  },
  {
   "cell_type": "code",
   "execution_count": 67,
   "id": "4ec11e77",
   "metadata": {},
   "outputs": [
    {
     "name": "stdout",
     "output_type": "stream",
     "text": [
      "objective_value(model) = 59400.0\n"
     ]
    },
    {
     "data": {
      "text/plain": [
       "59400.0"
      ]
     },
     "execution_count": 67,
     "metadata": {},
     "output_type": "execute_result"
    }
   ],
   "source": [
    "@show objective_value(model)"
   ]
  },
  {
   "cell_type": "code",
   "execution_count": null,
   "id": "aa02d49e",
   "metadata": {},
   "outputs": [],
   "source": []
  },
  {
   "cell_type": "code",
   "execution_count": null,
   "id": "921cc2ac",
   "metadata": {},
   "outputs": [],
   "source": []
  }
 ],
 "metadata": {
  "kernelspec": {
   "display_name": "Julia 1.9.2",
   "language": "julia",
   "name": "julia-1.9"
  },
  "language_info": {
   "file_extension": ".jl",
   "mimetype": "application/julia",
   "name": "julia",
   "version": "1.9.2"
  }
 },
 "nbformat": 4,
 "nbformat_minor": 5
}
