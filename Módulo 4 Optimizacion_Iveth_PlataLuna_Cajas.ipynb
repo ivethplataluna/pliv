{
 "cells": [
  {
   "cell_type": "code",
   "execution_count": 4,
   "id": "7d1a8110",
   "metadata": {},
   "outputs": [],
   "source": [
    "using JuMP\n",
    "using GLPK"
   ]
  },
  {
   "cell_type": "code",
   "execution_count": 5,
   "id": "b01b40c3",
   "metadata": {},
   "outputs": [],
   "source": [
    "## Un productor de vicicletas produce bicicletas para tour, carrera y montaña. Estas bicicletas están hechas de aluminio y acero. La compañía tiene 91800 unidadeas de acero y 42000 unidades de alumnio. Los modelos de carrera, de tour y montaña requieren 17, 27 y 34 unidades de acero 12, 21 y 15 unidades de aluminio. Una compañía genera 8 dólares por bicicletas de carrera, 12 dólares por bicicleta de tour y 22 dólares por bicicleta de montaña. Para maximizar la ganancia, ¿Cuántas bicicletas de cada tipo deben ser producidas?¿Cuál es la ganancia máxima que se puede generar?"
   ]
  },
  {
   "cell_type": "code",
   "execution_count": 6,
   "id": "0e6b1701",
   "metadata": {},
   "outputs": [
    {
     "data": {
      "text/plain": [
       "A JuMP Model\n",
       "Feasibility problem with:\n",
       "Variables: 0\n",
       "Model mode: AUTOMATIC\n",
       "CachingOptimizer state: EMPTY_OPTIMIZER\n",
       "Solver name: GLPK"
      ]
     },
     "execution_count": 6,
     "metadata": {},
     "output_type": "execute_result"
    }
   ],
   "source": [
    "##Define el modelo de optimización\n",
    "model = Model(GLPK.Optimizer)"
   ]
  },
  {
   "cell_type": "markdown",
   "id": "e30a07af",
   "metadata": {},
   "source": [
    "## Construcción de variables"
   ]
  },
  {
   "cell_type": "code",
   "execution_count": 7,
   "id": "d7af26f4",
   "metadata": {},
   "outputs": [
    {
     "data": {
      "text/latex": [
       "$$ gris $$"
      ],
      "text/plain": [
       "gris"
      ]
     },
     "execution_count": 7,
     "metadata": {},
     "output_type": "execute_result"
    }
   ],
   "source": [
    "@variable(model, verde >=0)\n",
    "@variable(model, azul >=0)\n",
    "@variable(model, naranja >=0)\n",
    "@variable(model, amarillo >=0)\n",
    "@variable(model, gris >=0)"
   ]
  },
  {
   "cell_type": "code",
   "execution_count": 8,
   "id": "2b47816b",
   "metadata": {},
   "outputs": [
    {
     "data": {
      "text/latex": [
       "$$ 12 verde + 2 azul + naranja + 4 amarillo + gris \\leq 15 $$"
      ],
      "text/plain": [
       "12 verde + 2 azul + naranja + 4 amarillo + gris ≤ 15"
      ]
     },
     "execution_count": 8,
     "metadata": {},
     "output_type": "execute_result"
    }
   ],
   "source": [
    "@constraint(model, 12verde + 2azul + 1naranja + 4amarillo + 1gris <= 15)\n"
   ]
  },
  {
   "cell_type": "markdown",
   "id": "4cbf0243",
   "metadata": {},
   "source": [
    "## Función objetivo"
   ]
  },
  {
   "cell_type": "code",
   "execution_count": 9,
   "id": "b2ff4bc2",
   "metadata": {},
   "outputs": [
    {
     "data": {
      "text/latex": [
       "$$ 4 verde + 2 azul + naranja + 10 amarillo + 2 gris $$"
      ],
      "text/plain": [
       "4 verde + 2 azul + naranja + 10 amarillo + 2 gris"
      ]
     },
     "execution_count": 9,
     "metadata": {},
     "output_type": "execute_result"
    }
   ],
   "source": [
    "@objective(model, Max, 4verde + 2azul + 1naranja + 10amarillo + 2gris )"
   ]
  },
  {
   "cell_type": "markdown",
   "id": "89085693",
   "metadata": {},
   "source": [
    "## SOlución del modelo"
   ]
  },
  {
   "cell_type": "code",
   "execution_count": 10,
   "id": "345724d7",
   "metadata": {},
   "outputs": [],
   "source": [
    "optimize!(model)"
   ]
  },
  {
   "cell_type": "markdown",
   "id": "6bd1223c",
   "metadata": {},
   "source": [
    "## Reportar la solución"
   ]
  },
  {
   "cell_type": "code",
   "execution_count": 11,
   "id": "53baecad",
   "metadata": {},
   "outputs": [
    {
     "name": "stdout",
     "output_type": "stream",
     "text": [
      "value(verde) = 0.0\n",
      "value(azul) = 0.0\n",
      "value(naranja) = 0.0\n",
      "value(amarillo) = 3.75\n",
      "value(gris) = 0.0\n"
     ]
    },
    {
     "data": {
      "text/plain": [
       "0.0"
      ]
     },
     "execution_count": 11,
     "metadata": {},
     "output_type": "execute_result"
    }
   ],
   "source": [
    "@show value(verde)\n",
    "@show value(azul)\n",
    "@show value(naranja)\n",
    "@show value(amarillo)\n",
    "@show value(gris)"
   ]
  },
  {
   "cell_type": "code",
   "execution_count": 12,
   "id": "4ec11e77",
   "metadata": {},
   "outputs": [
    {
     "name": "stdout",
     "output_type": "stream",
     "text": [
      "objective_value(model) = 37.5\n"
     ]
    },
    {
     "data": {
      "text/plain": [
       "37.5"
      ]
     },
     "execution_count": 12,
     "metadata": {},
     "output_type": "execute_result"
    }
   ],
   "source": [
    "@show objective_value(model)"
   ]
  },
  {
   "cell_type": "code",
   "execution_count": null,
   "id": "aa02d49e",
   "metadata": {},
   "outputs": [],
   "source": []
  },
  {
   "cell_type": "code",
   "execution_count": null,
   "id": "921cc2ac",
   "metadata": {},
   "outputs": [],
   "source": []
  }
 ],
 "metadata": {
  "kernelspec": {
   "display_name": "Julia 1.9.2",
   "language": "julia",
   "name": "julia-1.9"
  },
  "language_info": {
   "file_extension": ".jl",
   "mimetype": "application/julia",
   "name": "julia",
   "version": "1.9.2"
  }
 },
 "nbformat": 4,
 "nbformat_minor": 5
}
